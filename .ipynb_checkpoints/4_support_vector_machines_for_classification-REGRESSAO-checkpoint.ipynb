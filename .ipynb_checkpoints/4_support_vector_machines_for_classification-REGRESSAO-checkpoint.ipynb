{
 "cells": [
  {
   "cell_type": "markdown",
   "id": "7e6d454c",
   "metadata": {
    "id": "7e6d454c"
   },
   "source": [
    "<table align=\"left\">\n",
    "  <td>\n",
    "    <a href=\"https://colab.research.google.com/github/nyandwi/machine_learning_complete/blob/main/6_classical_machine_learning_with_scikit-learn/4_support_vector_machines_for_classification.ipynb\" target=\"_parent\"><img src=\"https://colab.research.google.com/assets/colab-badge.svg\" alt=\"Open In Colab\"/></a>\n",
    "  </td>\n",
    "</table>"
   ]
  },
  {
   "cell_type": "markdown",
   "id": "651045d9",
   "metadata": {
    "id": "651045d9"
   },
   "source": [
    "*Este caderno foi criado por [Adrielson Ferreira Justino](https://twitter.com/jeande_d). Para qualquer feedback, erro ou sugestão, ele pode ser contatado por e-mail (adrielferreira28@gmail.com), [GIT](https://) ou [LinkedIn](https://linkedin.com/ em/).*"
   ]
  },
  {
   "cell_type": "markdown",
   "id": "7c5ba4fe",
   "metadata": {
    "id": "7c5ba4fe"
   },
   "source": [
    "# Support Vector Machines (SVM)"
   ]
  },
  {
   "cell_type": "markdown",
   "id": "6a262086",
   "metadata": {
    "id": "6a262086"
   },
   "source": [
    "### O que é SVM?\n",
    "\n",
    "**Máquinas de vetores de suporte** são o tipo de algoritmo de aprendizado supervisionado usado para **regressão, classificação e detecção de outliers**;\n",
    "\n",
    "\n",
    "SVMs são notavelmente um dos modelos poderosos no aprendizado de máquina clássico;\n",
    "\n",
    "\n",
    "São adequados para lidar com conjuntos de dados complexos e de alta dimensão;\n",
    "\n",
    "### Quais tipos de dados?\n",
    "O SVM pode lidar com diferentes tipos de conjuntos de dados, tanto **lineares quanto não lineares**;\n",
    "\n",
    "\n",
    "Isso é possível pois o SVM **suporta diferentes kernels** (linear, polinomial, Radial Basis Function (rbf) e sigmóide), \n",
    "\n",
    "### *Embora a matemática por trás dos SVMs esteja além do escopo desta apresentação, aqui está a ideia por trás dos SVMs:*\n",
    "\n",
    "<!-- *A forma como o SVM funciona pode ser comparada a uma rua com uma linha divisória. Durante o treinamento SVM, o SMV traça uma grande margem ou limite de decisão entre as classes com base na importância de cada ponto de dados de treinamento. Os pontos de dados de treinamento que estão dentro do limite de decisão são chamados de vetores de suporte e daí o nome.*\n",
    "\n",
    "![SVM](https://upload.wikimedia.org/wikipedia/commons/thumb/f/fe/Kernel_Machine.svg/1200px-Kernel_Machine.svg.png)\n",
    "\n",
    "Fonte da imagem: Wikimedia -->"
   ]
  },
  {
   "cell_type": "markdown",
   "id": "93a5cdc6",
   "metadata": {},
   "source": [
    "Primeiro vamos supor que temos um conjunto de pontos como do gráfico abaixo.\n",
    "\n",
    "<img src=\"img/pontos1.png\" alt=\"Exemplo de Imagem\" width = \"500\">\n",
    "\n",
    "<!-- palette = sns.color_palette()\n",
    "\n",
    "x_orange = [0.00, 0.4, 0.08, 0.2, 0.26, 0.3, 0.4, 0.5, 0.6, 0.7, 0.76]\n",
    "x_blue = [1.19, 1.27, 1.35, 1.45, 1.50, 1.57, 1.66, 1.7, 1.75, 1.8, 1.9, 2]\n",
    "y_orange = [0]*len(x_orange)\n",
    "y_blue = [0]*len(x_blue)\n",
    "\n",
    "# Criando o gráfico\n",
    "plt.figure(figsize=(10, 2))\n",
    "plt.plot(x_orange + x_blue, y_orange + y_blue, color='black')\n",
    "plt.scatter(x_orange, y_orange, color=palette[1], label='Laranja', zorder=5)\n",
    "plt.scatter(x_blue, y_blue, color=palette[0], label='Azul', zorder=5)\n",
    "plt.xlabel('Eixo X')\n",
    "plt.yticks([])  # Remove o eixo Y\n",
    "plt.legend()\n",
    "plt.grid(True)\n",
    "plt.show() -->"
   ]
  },
  {
   "cell_type": "markdown",
   "id": "7aa745ca",
   "metadata": {},
   "source": [
    "No gráfico abaixo entre os pontos roxos e amarelos temos um ponto vermelho. \n",
    "\n",
    "<img src=\"img/pontos2.png\" alt=\"Exemplo de Imagem\" width = \"500\">\n",
    "\n",
    "<!-- palette = sns.color_palette()\n",
    "\n",
    "x_orange = [0.00, 0.4, 0.08, 0.2, 0.26, 0.3, 0.4, 0.5, 0.6, 0.7, 0.76]\n",
    "x_blue = [1.19, 1.27, 1.35, 1.45, 1.50, 1.57, 1.66, 1.7, 1.75, 1.8, 1.9, 2]\n",
    "y_orange = [0]*len(x_orange)\n",
    "y_blue = [0]*len(x_blue)\n",
    "x_red = [0.88]\n",
    "y_red = [0]\n",
    "\n",
    "plt.figure(figsize=(10, 2))\n",
    "plt.plot(x_orange + x_blue + x_red, y_orange + y_blue + y_red, color='black')\n",
    "plt.scatter(x_orange, y_orange, color=palette[1], label='Laranja', zorder=5)\n",
    "plt.scatter(x_blue, y_blue, color=palette[0], label='Azul', zorder=5)\n",
    "plt.scatter(x_red, y_red, color='red', zorder=5) #label='Vermelho'\n",
    "plt.xlabel('Eixo X')\n",
    "plt.yticks([])\n",
    "plt.legend()\n",
    "plt.grid(True)\n",
    "plt.show() -->"
   ]
  },
  {
   "cell_type": "markdown",
   "id": "209f13e5",
   "metadata": {},
   "source": [
    "### *Qual seria a classificação deste ponto? Laranja ou azul?*\n",
    "\n",
    "<img src=\"img/pontos3.png\" alt=\"Exemplo de Imagem\" width = \"500\">\n",
    "\n",
    "<!-- palette = sns.color_palette()\n",
    "x_orange = [0.00, 0.4, 0.08, 0.2, 0.26, 0.3, 0.4, 0.5, 0.6, 0.7, 0.76, 0.88]  \n",
    "x_blue = [1.19, 1.27, 1.35, 1.45, 1.50, 1.57, 1.66, 1.7, 1.75, 1.8, 1.9, 2] \n",
    "y_orange = [0]*len(x_orange)\n",
    "y_blue = [0]*len(x_blue)\n",
    "\n",
    "plt.figure(figsize=(10, 2))\n",
    "plt.plot(x_orange + x_blue, y_orange + y_blue, color='black')\n",
    "plt.scatter(x_orange, y_orange, color=palette[1], label='Laranja', zorder=5)\n",
    "plt.scatter(x_blue, y_blue, color=palette[0], label='Azul', zorder=5)\n",
    "# plt.title('Gráfico com Pontos e Linha de Decisão')\n",
    "plt.xlabel('Eixo X')\n",
    "plt.yticks([])  # Remove o eixo Y\n",
    "plt.legend()\n",
    "plt.grid(True)\n",
    "plt.show() -->"
   ]
  },
  {
   "cell_type": "markdown",
   "id": "b5646a87",
   "metadata": {},
   "source": [
    "Intuitivamente, pela proximidade do ponto vermelho com os pontos laranjas é muito provável a classificação desse ponto é **laranja**."
   ]
  },
  {
   "cell_type": "markdown",
   "id": "9a71d49b",
   "metadata": {},
   "source": [
    "### *Essa lógica é muito parecida com a utilizada no SVM.*"
   ]
  },
  {
   "cell_type": "markdown",
   "id": "5fa720f4",
   "metadata": {},
   "source": [
    "Podemos basicamente pegar os pontos que estão mais no extremo dos dados (**os pontos de duas classes diferentes que estão mais próximos entre si**) e usar esses pontos para determinar um <font color='blue'>**hiperplano**</font> capaz de separar essas classes.\n",
    "\n",
    "<!-- **Quanto maior a margem, melhor!** -->\n",
    "\n",
    "### *A pergunta que queremos responder é:*\n",
    "\n",
    "Qual seria o melhor lugar entre os pontos para colocar o nosso <font color='blue'>**limite de separação**</font>?\n",
    "\n",
    "<img src=\"img/limite_de.png\" alt=\"Exemplo de Imagem\" width = \"500\">\n",
    "\n",
    "<!-- palette = sns.color_palette()\n",
    "x_orange = [0.00, 0.4, 0.08, 0.2, 0.26, 0.3, 0.4, 0.5, 0.6, 0.7, 0.76]  \n",
    "x_blue = [1.19, 1.27, 1.35, 1.45, 1.50, 1.57, 1.66, 1.7, 1.75, 1.8, 1.9, 2] \n",
    "y_orange = [0]*len(x_orange)\n",
    "y_blue = [0]*len(x_blue)\n",
    "\n",
    "plt.figure(figsize=(10, 2.2))\n",
    "plt.plot(x_orange + x_blue, y_orange + y_blue, color='black')\n",
    "plt.scatter(x_orange, y_orange, color=palette[1], label='Laranja', zorder=5)\n",
    "plt.scatter(x_blue, y_blue, color=palette[0], label='Azul', zorder=5)\n",
    "# Linha de decisão\n",
    "plt.axvline(x=0.975, color='black', linestyle='--', label='Linha de Decisão')\n",
    "# plt.title('Gráfico com Pontos e Linha de Decisão')\n",
    "plt.xlabel('Eixo X')\n",
    "plt.yticks([])  # Remove o eixo Y\n",
    "plt.legend()\n",
    "plt.grid(True)\n",
    "plt.show() -->\n",
    "\n",
    "Este lugar irá indicar que se o meu ponto for menor do que o valor do limite de decisão então ele vai ser classificado como laranja e se for maior vai ser classificado como azul.\n",
    "\n",
    "Nesta escala nós conseguimos perceber visualmente que talvez este local ou ponto seja o 0,975."
   ]
  },
  {
   "cell_type": "markdown",
   "id": "e380b8b0",
   "metadata": {},
   "source": [
    "### *Conceitualmente o que tem por trás disso que estamos fazendo?*\n",
    "\n",
    "O que o algoritmo vai fazer é pegar os pontos que estão mais extremos, ou seja, os pontos que pertencem a classes diferentes e que tenham a **menor distância** entre eles:\n",
    "\n",
    "<img src=\"img/menor_di.png\" alt=\"Exemplo de Imagem\" width = \"500\">\n",
    "\n",
    "A estes pontos damos o nome de <font color='blue'>**vetores de suporte**</font>\n",
    "\n",
    "<img src=\"img/vetores_su.png\" alt=\"Exemplo de Imagem\" width = \"500\">\n",
    "\n",
    "Os vetores de suporte servem para traçarmos as <font color='blue'>**margens**</font> \n",
    "\n",
    "<img src=\"img/margens.png\" alt=\"Exemplo de Imagem\" width = \"500\">\n",
    "\n",
    "As margens vão definir qual será o nosso <font color='blue'>**hiperplano de separação.**</font>\n",
    "\n",
    "Quanto maior a margem, melhor!\n",
    "\n",
    "<img src=\"img/hiper.png\" alt=\"Exemplo de Imagem\" width = \"500\">"
   ]
  },
  {
   "cell_type": "markdown",
   "id": "433927ae",
   "metadata": {},
   "source": [
    "O conceito do Support Vector Machine é basicamente esse.\n",
    "\n",
    "Pegamos os pontos de classes diferentes que estão mais próximos entre si e a partir deles definimos as margens.\n",
    "\n",
    "Todo mundo que está para trás dessa margem é laranja.\n",
    "\n",
    "Todo mundo que está para frente dessa margem é azul."
   ]
  },
  {
   "cell_type": "markdown",
   "id": "846dd2d9",
   "metadata": {},
   "source": [
    "### Dados não lineares\n",
    "\n",
    "Um fato importante é que ele **pode ser utilizado tanto em dados linearmente separáveis** (como mostrado acima) **como em dados que não são linearmente separáveis** (que são a maioria dos nossos dados) \n",
    "\n",
    "<img src=\"img/n_lin.png\" alt=\"Exemplo de Imagem\" width = \"400\">\n",
    "\n",
    "- Quando nós falamos linearmente separados não estamos falando somente de uma <font color='blue'>**reta**</font>.\n",
    "\n",
    "- Podemos estar falando de uma <font color='blue'>**reta**</font> quando temos <font color='blue'>**duas dimensões**</font>.\n",
    "\n",
    "- Falando de um <font color='blue'>**plano**</font> quando temos <font color='blue'>**três dimensões**</font>.\n",
    "\n",
    "- <font color='blue'>**Hiperplanos**</font> quando temos <font color='blue'>**mais de três dimensões**</font> em que não temos uma capacidade de visualização muito clara."
   ]
  },
  {
   "cell_type": "markdown",
   "id": "2175af93",
   "metadata": {
    "scrolled": true
   },
   "source": [
    "Isso é feito no algoritmo elevando as dimensões dos dados.\n",
    "\n",
    "<img src=\"img/n_lin_3d.png\" alt=\"Exemplo de Imagem\" width = \"400\">\n",
    "\n",
    "O SVM vai usar as funções de kernel e no próprio algoritmo ele vai buscar a melhor dimensão capaz de encontrar essa separação.\n",
    "\n",
    "Só que ele não faz efetivamente essas transformações, apenas vai calcular a relação entre os pontos considerando que eles estão nessas dimensões. \n",
    "\n",
    "##### Isso é chamado de **\"Truque do Kernel\"**"
   ]
  },
  {
   "cell_type": "markdown",
   "id": "ae5e8372",
   "metadata": {
    "id": "ae5e8372"
   },
   "source": [
    "### Contents\n",
    "\n",
    "* [1 - Imports](#1)\n",
    "* [2 - Carregando os dados](#2)\n",
    "* [3 - Análise Exploratória](#3)\n",
    "* [4 - Pré-processamento](#4)\n",
    "* [5 - Classificador SVM](#5)\n",
    "* [6 - Avaliando o classificador SVM](#6)\n",
    "* [7 - Funções do kernel](#7)\n",
    "* [8 - Melhorando o classificador SVM](#8)"
   ]
  },
  {
   "cell_type": "markdown",
   "id": "99058d12",
   "metadata": {
    "id": "99058d12"
   },
   "source": [
    "<a name='1'></a>\n",
    "## 1 - Imports"
   ]
  },
  {
   "cell_type": "code",
   "execution_count": null,
   "id": "df278c5f",
   "metadata": {
    "id": "df278c5f"
   },
   "outputs": [],
   "source": [
    "import numpy as np\n",
    "import pandas as pd\n",
    "import seaborn as sns\n",
    "import sklearn\n",
    "import matplotlib.pyplot as plt\n",
    "from sklearn import datasets\n",
    "from sklearn.svm import LinearSVC, SVC\n",
    "from sklearn.metrics import accuracy_score, precision_score, recall_score, f1_score\n",
    "from sklearn.metrics import classification_report, confusion_matrix\n",
    "%matplotlib inline"
   ]
  },
  {
   "cell_type": "markdown",
   "id": "35699c38",
   "metadata": {
    "id": "35699c38"
   },
   "source": [
    "## 2 - Carregando os dados\n",
    "\n",
    "Vamos usar o conjunto de dados de *Breast Cancer* disponível no **Scikit-Learn**. \n",
    "\n",
    "Este conjunto de dados é amplamente utilizado para problemas de classificação binária.\n",
    "\n",
    "Contém informações de características extraídas de imagens digitalizadas de massas mamárias. \n",
    "\n",
    "O objetivo é classificar as massas como malignas ou benignas com base nas características fornecidas."
   ]
  },
  {
   "cell_type": "code",
   "execution_count": null,
   "id": "284e837c",
   "metadata": {},
   "outputs": [],
   "source": [
    "from sklearn.datasets import load_breast_cancer\n",
    "\n",
    "X, y = load_breast_cancer(return_X_y=True, as_frame=True)"
   ]
  },
  {
   "cell_type": "code",
   "execution_count": null,
   "id": "436069a7",
   "metadata": {},
   "outputs": [],
   "source": [
    "# cancer = datasets.load_breast_cancer()\n",
    "# X = pd.DataFrame(cancer.data, columns=cancer.feature_names)\n",
    "# y = pd.Series(cancer.target, name='target')"
   ]
  },
  {
   "cell_type": "markdown",
   "id": "c492fd93",
   "metadata": {
    "id": "c492fd93"
   },
   "source": [
    "## 3 - Análise Exploratória"
   ]
  },
  {
   "cell_type": "code",
   "execution_count": null,
   "id": "49b13c0a",
   "metadata": {
    "colab": {
     "base_uri": "https://localhost:8080/",
     "height": 206
    },
    "id": "49b13c0a",
    "outputId": "d5969868-5b92-4c63-d327-e624c4c359dc"
   },
   "outputs": [],
   "source": [
    "X.head()"
   ]
  },
  {
   "cell_type": "code",
   "execution_count": null,
   "id": "de108cd5",
   "metadata": {
    "colab": {
     "base_uri": "https://localhost:8080/"
    },
    "id": "de108cd5",
    "outputId": "e09ce4b6-d399-4d47-ca5b-81fe497ff0d2"
   },
   "outputs": [],
   "source": [
    "X.info()"
   ]
  },
  {
   "cell_type": "markdown",
   "id": "68c42827",
   "metadata": {},
   "source": [
    "### *Exibindo histograma das características*"
   ]
  },
  {
   "cell_type": "code",
   "execution_count": null,
   "id": "046b2586",
   "metadata": {
    "colab": {
     "base_uri": "https://localhost:8080/",
     "height": 1000
    },
    "id": "046b2586",
    "outputId": "39dd0a09-dd9d-44d5-fb6b-49eb971e0f0a"
   },
   "outputs": [],
   "source": [
    "X.hist(bins=30, figsize=(20,15))\n",
    "plt.show()"
   ]
  },
  {
   "cell_type": "markdown",
   "id": "b37960aa",
   "metadata": {
    "id": "b37960aa"
   },
   "source": [
    "### *Traçando os gráficos de dispersão das caracteríticas*"
   ]
  },
  {
   "cell_type": "code",
   "execution_count": null,
   "id": "3e56b7ca",
   "metadata": {
    "scrolled": false
   },
   "outputs": [],
   "source": [
    "# Criar uma cópia do DataFrame X para adicionar a coluna 'target'\n",
    "X_copy = X.copy()\n",
    "X_copy['target'] = y\n",
    "\n",
    "palette = sns.color_palette()[:2]\n",
    "num_features = X.shape[1]  # Número de características\n",
    "num_cols = 3  # Número de colunas para os subplots\n",
    "num_rows = (num_features + num_cols - 1) // num_cols  # Calcular o número de linhas necessário\n",
    "\n",
    "plt.figure(figsize=(15, 50))\n",
    "\n",
    "# Laço para criar os gráficos de dispersão\n",
    "for i, feature in enumerate(X.columns):  # Iterar por todas as colunas de X\n",
    "    plt.subplot(num_rows, num_cols, i + 1)\n",
    "    sns.scatterplot(x=X_copy['mean radius'], y=X_copy[feature], hue=X_copy['target'], palette=palette)\n",
    "    plt.xlabel('mean radius')\n",
    "    plt.ylabel(feature)\n",
    "\n",
    "plt.tight_layout()\n",
    "plt.show()"
   ]
  },
  {
   "cell_type": "markdown",
   "id": "3474cfbb",
   "metadata": {},
   "source": [
    "### *Exibindo a contagem dos valores da coluna alvo (Target)*"
   ]
  },
  {
   "cell_type": "code",
   "execution_count": null,
   "id": "a52a3a8d",
   "metadata": {
    "scrolled": false
   },
   "outputs": [],
   "source": [
    "palette = sns.color_palette()\n",
    "value_counts = y.value_counts()\n",
    "plt.figure(figsize=(8, 4))\n",
    "\n",
    "colors = [palette[1],palette[0]]  # Cores diferentes para as classes\n",
    "value_counts.plot(kind='bar', color=colors)\n",
    "plt.title('Contagem dos Valores Alvo (Target)')\n",
    "plt.xlabel('Classes')\n",
    "plt.ylabel('Contagem')\n",
    "plt.xticks(ticks=[0, 1], labels=['Maligno', 'Benigno'], rotation=0)\n",
    "plt.show()"
   ]
  },
  {
   "cell_type": "code",
   "execution_count": null,
   "id": "aa3b938b",
   "metadata": {
    "colab": {
     "base_uri": "https://localhost:8080/"
    },
    "id": "aa3b938b",
    "outputId": "31e439e3-bd88-442a-967c-c5021d818529",
    "scrolled": false
   },
   "outputs": [],
   "source": [
    "y.value_counts()"
   ]
  },
  {
   "cell_type": "markdown",
   "id": "9804f536",
   "metadata": {},
   "source": [
    "### *Separar conjunto de dados de treino e teste*\n",
    "Antes de explorar alguns insights sobre os dados, vamos dividi-los em conjunto de teste e conjunto de treinamento."
   ]
  },
  {
   "cell_type": "code",
   "execution_count": null,
   "id": "98d74144",
   "metadata": {
    "colab": {
     "base_uri": "https://localhost:8080/"
    },
    "id": "98d74144",
    "outputId": "d2936592-9a76-41a8-ee02-47b6ba3c57b5",
    "scrolled": true
   },
   "outputs": [],
   "source": [
    "from sklearn.model_selection import train_test_split\n",
    "\n",
    "X_train, X_test, y_train, y_test = train_test_split(X,y, test_size=0.3,random_state=20)\n",
    "\n",
    "print('O tamanho dos dados de treinamento é: {} \\nO tamanho dos dados de teste é: {}'.format(len(X_train), len(X_test)))"
   ]
  },
  {
   "cell_type": "code",
   "execution_count": null,
   "id": "eed11d23",
   "metadata": {},
   "outputs": [],
   "source": [
    "y_test.value_counts()"
   ]
  },
  {
   "cell_type": "markdown",
   "id": "e6733727",
   "metadata": {
    "id": "e6733727"
   },
   "source": [
    "## 4 - Pré-processamento"
   ]
  },
  {
   "cell_type": "markdown",
   "id": "9dec0947",
   "metadata": {
    "id": "9dec0947"
   },
   "source": [
    "<!-- The features already have small values but let's scale them to be between 0 and 1. SVM work well with scaled values. I will set up a pipeline to handle that. -->\n",
    "\n",
    "O SVM funciona bem com valores escalonados. Aqui é feita a configuração para escalar esses valores para ficarem entre 0 e 1. "
   ]
  },
  {
   "cell_type": "code",
   "execution_count": null,
   "id": "09568684",
   "metadata": {},
   "outputs": [],
   "source": [
    "X_train.max()"
   ]
  },
  {
   "cell_type": "code",
   "execution_count": null,
   "id": "9fde6f09",
   "metadata": {
    "id": "9fde6f09"
   },
   "outputs": [],
   "source": [
    "from sklearn.pipeline import Pipeline\n",
    "from sklearn.preprocessing import MinMaxScaler\n",
    "\n",
    "scale_pipe = Pipeline([\n",
    "    ('scaler', MinMaxScaler())\n",
    "])\n",
    "\n",
    "X_train_scaled = scale_pipe.fit_transform(X_train)\n",
    "X_test_scaled = scale_pipe.transform(X_test)"
   ]
  },
  {
   "cell_type": "code",
   "execution_count": null,
   "id": "8a00944e",
   "metadata": {
    "scrolled": true
   },
   "outputs": [],
   "source": [
    "X_train_scaled"
   ]
  },
  {
   "cell_type": "code",
   "execution_count": null,
   "id": "f926d70d",
   "metadata": {},
   "outputs": [],
   "source": [
    "X_test_scaled"
   ]
  },
  {
   "cell_type": "markdown",
   "id": "dd496de6",
   "metadata": {
    "id": "dd496de6"
   },
   "source": [
    "## 5 - Classificador SVM"
   ]
  },
  {
   "cell_type": "markdown",
   "id": "87a002dc",
   "metadata": {},
   "source": [
    "### Parâmetros do SVM no Scikit-learn\n",
    "\n",
    "O Scikit-learn fornece várias opções para configurar o SVM. Alguns dos principais parâmetros são:\n",
    "\n",
    "- **`kernel`: Especifica o tipo de kernel a ser usado na função de decisão.** SVM suporta kernels `linear`, `polinomial`, `rbf`, `sigmoid`,`precomputed` ou um `callable`.\n",
    "\n",
    "- **`C`: Parâmetro de regularização.** Quanto maior o valor de `C`, menor a margem de erro, mas pode levar ao overfitting.\n",
    "\n",
    "- **`gamma`: Coeficiente do kernel para 'rbf', 'poly' e 'sigmoid'.** Se `gamma` for 'scale', `gamma` será 1 / (n_features * X.var()), se for 'auto', `gamma` será 1 / n_features.\n",
    "\n",
    "\n",
    "- **`degree`: Grau do polinômio se o kernel for 'poly'.** Ignorado por outros kernels.\n",
    "\n",
    "- **`coef0`: Término independente no kernel 'poly' e 'sigmoid'.**\n",
    "\n",
    "\n",
    "- **`shrinking`: Se deve usar heurísticas de encolhimento.**\n",
    "\n",
    "\n",
    "- **`probability`: Se deve habilitar estimativas de probabilidade.** Isso é mais demorado e deve ser ativado antes de ajustar o modelo.\n",
    "\n",
    "- **`tol`: Critério de tolerância para parada.**\n",
    "\n",
    "- **`cache_size`: Tamanho do cache em MB.**\n",
    "\n",
    "- **`class_weight`: Peso associado às classes.**\n",
    "\n",
    "- **`verbose`: Habilitar saída detalhada.**\n",
    "\n",
    "- **`max_iter`: Número máximo de iterações.**"
   ]
  },
  {
   "cell_type": "markdown",
   "id": "49ef9cdb",
   "metadata": {},
   "source": [
    "### Treinamento do Classificador SVM \n",
    "Aqui é realizado o treinamento de dois classificadores: Linear SVC e SVC que podemos usar kernels diferentes. \n"
   ]
  },
  {
   "cell_type": "code",
   "execution_count": null,
   "id": "60eee090",
   "metadata": {
    "id": "60eee090",
    "outputId": "7cc6b216-cdef-4db2-9426-f135e36865d5"
   },
   "outputs": [],
   "source": [
    "#Linear SVC\n",
    "lin_svc = LinearSVC(dual=False)\n",
    "lin_svc.fit(X_train_scaled, y_train)\n",
    "\n",
    "#SVC (kernel = 'poly')\n",
    "poly_svc = SVC(kernel='poly', C = 0.001)\n",
    "poly_svc.fit(X_train_scaled, y_train)\n",
    "\n",
    "print('Modelos treinados com sucesso!')"
   ]
  },
  {
   "cell_type": "markdown",
   "id": "9afb9bde",
   "metadata": {
    "id": "9afb9bde"
   },
   "source": [
    "## 6 - Avaliando o classificador SVM"
   ]
  },
  {
   "cell_type": "markdown",
   "id": "3b5129ab",
   "metadata": {},
   "source": [
    "#### Previsões dos modelos: "
   ]
  },
  {
   "cell_type": "markdown",
   "id": "bacdfe4a",
   "metadata": {
    "id": "bacdfe4a"
   },
   "source": [
    "Primeiro vamos exibir a matriz de confusão e o relatório de classificação no LinearSVC.\n",
    "O relatório de classificação vai além da exatidão, incluindo recall, precisão e pontuação f1."
   ]
  },
  {
   "cell_type": "markdown",
   "id": "e120f288",
   "metadata": {},
   "source": [
    "#### Matriz de confusão LinearSVC"
   ]
  },
  {
   "cell_type": "code",
   "execution_count": null,
   "id": "083babce",
   "metadata": {},
   "outputs": [],
   "source": [
    "confusion_matrix(y_train, lin_pred)"
   ]
  },
  {
   "cell_type": "markdown",
   "id": "1a68fbd4",
   "metadata": {},
   "source": [
    "#### Relatório de classificação LinearSVC"
   ]
  },
  {
   "cell_type": "code",
   "execution_count": null,
   "id": "b75abc0d",
   "metadata": {},
   "outputs": [],
   "source": [
    "print(classification_report(y_train, lin_pred))"
   ]
  },
  {
   "cell_type": "markdown",
   "id": "e31d04bc",
   "metadata": {},
   "source": [
    "#### Matriz de confusão LinearSVC"
   ]
  },
  {
   "cell_type": "code",
   "execution_count": null,
   "id": "73865ee0",
   "metadata": {
    "id": "73865ee0",
    "outputId": "3bf4fe14-d7a8-4fdb-db43-d9606237230d"
   },
   "outputs": [],
   "source": [
    "confusion_matrix(y_train, poly_pred)"
   ]
  },
  {
   "cell_type": "markdown",
   "id": "991f7da3",
   "metadata": {},
   "source": [
    "#### Relatório de classificação SVC com kernel polinomial."
   ]
  },
  {
   "cell_type": "code",
   "execution_count": null,
   "id": "1da6526d",
   "metadata": {
    "id": "1da6526d",
    "outputId": "633665d1-eebb-4e9a-e828-13a1518ab3af"
   },
   "outputs": [],
   "source": [
    "print(classification_report(y_train, poly_pred))"
   ]
  },
  {
   "cell_type": "markdown",
   "id": "30d777df",
   "metadata": {
    "id": "30d777df"
   },
   "source": [
    "Os resultados são bastante impressionantes, visto que não foi necessário que ajustar nenhum hiperparâmetro. \n",
    "\n",
    "Embora isso seja suficiente para nosso conjunto de dados, é improvável que seu modelo funcione bem inicialmente na vida real. \n",
    "\n",
    "Talvez seja necessário ajustar hiperparâmetros.\n",
    "\n",
    "Existem duas técnicas comuns para pesquisa de hiperparâmetros. Estes são Pesquisa Aleatória e GridSearch."
   ]
  },
  {
   "cell_type": "markdown",
   "id": "420b1dc2",
   "metadata": {},
   "source": [
    "## 7 - Funções do kernel\n",
    "### Linear\n",
    "Eles são comumente recomendados para classificação de texto, pois a maioria desses tipos de problemas de classificação são linearmente separáveis.\n",
    "\n",
    "O kernel linear funciona muito bem quando há muitas características, e os problemas de classificação de texto têm muitas características. As funções lineares do kernel são mais rápidas que a maioria das outras e você tem menos parâmetros para otimizar.\n",
    "\n",
    "### Polinomial\n",
    "O kernel polinomial não é usado na prática com muita frequência porque não é tão eficiente computacionalmente quanto outros kernels e suas previsões não são tão precisas.\n",
    "\n",
    "###  Função de base radial gaussiana (RBF)\n",
    "Esse é um dos kernels mais poderosos e comumente usados em SVMs. Ele geralmente é a escolha para dados não lineares.\n",
    "\n",
    "### Sigmoide\n",
    "Mais útil em redes neurais do que em máquinas de vetores de suporte, mas há casos de uso específicos ocasionais."
   ]
  },
  {
   "cell_type": "markdown",
   "id": "ad1e7396",
   "metadata": {},
   "source": [
    "### Treinando e avaliando o SVM com diferentes kernels"
   ]
  },
  {
   "cell_type": "code",
   "execution_count": null,
   "id": "e76ad499",
   "metadata": {},
   "outputs": [],
   "source": [
    "def train_and_evaluate_svm(kernel):\n",
    "    svm = SVC(kernel=kernel)\n",
    "    svm.fit(X_train_scaled, y_train)\n",
    "    y_pred = svm.predict(X_test_scaled)\n",
    "    \n",
    "    print(f\"Kernel: {kernel}\")\n",
    "    print(confusion_matrix(y_test, y_pred))\n",
    "    print(classification_report(y_test, y_pred))\n",
    "    print(\"\\n\")"
   ]
  },
  {
   "cell_type": "code",
   "execution_count": null,
   "id": "83a45c13",
   "metadata": {},
   "outputs": [],
   "source": [
    "kernels = ['linear', 'poly', 'rbf', 'sigmoid']\n",
    "for kernel in kernels:\n",
    "    train_and_evaluate_svm(kernel)"
   ]
  },
  {
   "cell_type": "code",
   "execution_count": null,
   "id": "a4b9bbbc",
   "metadata": {},
   "outputs": [],
   "source": [
    "results = []\n",
    "for kernel in kernels:\n",
    "    svm = SVC(kernel=kernel)\n",
    "    svm.fit(X_train_scaled, y_train)\n",
    "    score = svm.score(X_test_scaled, y_test)\n",
    "    results.append((kernel, score))\n",
    "\n",
    "results_df = pd.DataFrame(results, columns=['Kernel', 'Accuracy'])\n",
    "colors = sns.color_palette()[:4] \n",
    "results_df.plot(kind='bar', x='Kernel', y='Accuracy', legend=False, title='SVM Kernel Comparison', color=colors)\n",
    "plt.ylabel('Accuracy')\n",
    "plt.show()"
   ]
  },
  {
   "cell_type": "markdown",
   "id": "66a574a5",
   "metadata": {
    "id": "66a574a5"
   },
   "source": [
    "## 8 - Melhorando o classificador de vetores de suporte"
   ]
  },
  {
   "cell_type": "code",
   "execution_count": null,
   "id": "b269dadf",
   "metadata": {
    "id": "b269dadf",
    "outputId": "cd3538c3-ecb7-43d3-d90f-ab329e67df68"
   },
   "outputs": [],
   "source": [
    "from sklearn.model_selection import GridSearchCV\n",
    "\n",
    "params_grid = {'C':[0.001,10,100,1000],\n",
    "              'gamma':[1,0.1,0.01,0.001],\n",
    "                'degree':[2,3,4,5],\n",
    "              'coef0':[0,1,2,4]\n",
    "\n",
    "              }\n",
    "\n",
    "grid_search = GridSearchCV(SVC(kernel='poly'), params_grid, verbose=2)\n",
    "\n",
    "grid_search.fit(X_train_scaled, y_train)"
   ]
  },
  {
   "cell_type": "code",
   "execution_count": null,
   "id": "f80693ba",
   "metadata": {
    "id": "f80693ba",
    "outputId": "22f90c8f-3680-4919-e02c-c09cb0b72592"
   },
   "outputs": [],
   "source": [
    "grid_search.best_params_"
   ]
  },
  {
   "cell_type": "code",
   "execution_count": null,
   "id": "d1a91201",
   "metadata": {
    "id": "d1a91201"
   },
   "outputs": [],
   "source": [
    "# In grid search definition above, if you set parameter re_fit to True, you won't have to do this\n",
    "\n",
    "poly_best = grid_search.best_estimator_.fit(X_train_scaled, y_train)"
   ]
  },
  {
   "cell_type": "code",
   "execution_count": null,
   "id": "13f0963c",
   "metadata": {
    "id": "13f0963c"
   },
   "outputs": [],
   "source": [
    "grid_pred = poly_best.predict(X_train_scaled)"
   ]
  },
  {
   "cell_type": "code",
   "execution_count": null,
   "id": "883dc5cb",
   "metadata": {
    "id": "883dc5cb",
    "outputId": "b43daffd-de31-48c0-c4a0-d8e3437ed595"
   },
   "outputs": [],
   "source": [
    "accuracy_score(y_train, grid_pred)"
   ]
  },
  {
   "cell_type": "code",
   "execution_count": null,
   "id": "5e4bc41e",
   "metadata": {
    "id": "5e4bc41e",
    "outputId": "18b2bf52-cea0-4817-902c-cd586c7802c1"
   },
   "outputs": [],
   "source": [
    "confusion_matrix(y_train, grid_pred)"
   ]
  },
  {
   "cell_type": "code",
   "execution_count": null,
   "id": "11e7012b",
   "metadata": {
    "id": "11e7012b",
    "outputId": "38c9f696-2fe5-43fd-c4b2-e590e52f41d2"
   },
   "outputs": [],
   "source": [
    "print(classification_report(y_train, grid_pred))"
   ]
  },
  {
   "cell_type": "markdown",
   "id": "dcb24269",
   "metadata": {
    "id": "dcb24269"
   },
   "source": [
    "Como você pode ver, nada realmente melhorou. Isso foi apenas com o propósito de aprender como melhorar um modelo, ajustando hiperparâmetros porque na maioria das vezes o primeiro modelo não será bom o suficiente."
   ]
  },
  {
   "cell_type": "markdown",
   "id": "39ddbcd9",
   "metadata": {
    "id": "39ddbcd9"
   },
   "source": [
    "Depois de melhorar seu modelo, você poderá fazer previsões com segurança no conjunto de testes. Teremos que escalá-lo primeiro, assim como fizemos com o conjunto de treinamento. Lembre-se de que não fazemos `fit_transform`, apenas `transformamos` o conjunto de teste."
   ]
  },
  {
   "cell_type": "code",
   "execution_count": null,
   "id": "8f2ade2f",
   "metadata": {
    "id": "8f2ade2f"
   },
   "outputs": [],
   "source": [
    "test_scaled = scale_pipe.transform(X_test)"
   ]
  },
  {
   "cell_type": "code",
   "execution_count": null,
   "id": "dae077db",
   "metadata": {
    "id": "dae077db"
   },
   "outputs": [],
   "source": [
    "test_pred = poly_best.predict(test_scaled)"
   ]
  },
  {
   "cell_type": "code",
   "execution_count": null,
   "id": "fbdb3a73",
   "metadata": {
    "id": "fbdb3a73",
    "outputId": "df279e8a-4e4a-4d5f-a2bf-18d53464cbba"
   },
   "outputs": [],
   "source": [
    "accuracy_score(y_test, test_pred)"
   ]
  },
  {
   "cell_type": "code",
   "execution_count": null,
   "id": "daa0ba3d",
   "metadata": {
    "id": "daa0ba3d",
    "outputId": "35ac2e0a-4b96-444d-be7a-d0b28eca356c"
   },
   "outputs": [],
   "source": [
    "print(classification_report(y_test, test_pred))"
   ]
  },
  {
   "cell_type": "markdown",
   "id": "3215038a",
   "metadata": {
    "id": "3215038a"
   },
   "source": [
    "Vamos ver por que não precisamos ajustar os hiperparâmetros. Se avaliarmos nosso primeiro modelo bom antes da pesquisa de hiperparâmetros, você poderá ver que ele se sai melhor no conjunto de teste do que aquele com hiperparâmetro ajustado.\n",
    "\n",
    "O que isso nos diz? Isso significa que quando estávamos tentando melhorar o modelo, na verdade estávamos superajustando e como resultado o modelo não consegue generalizar bem os novos dados. Se você observar os resultados acima, foi isso que aconteceu.\n",
    "\n",
    "Vamos avaliar nosso primeiro modelo polinomial no conjunto de teste. Foi muito bom mesmo sem ajuste de hiperparâmetros porque a precisão no trem foi de 99%."
   ]
  },
  {
   "cell_type": "code",
   "execution_count": null,
   "id": "99504dc6",
   "metadata": {
    "id": "99504dc6"
   },
   "outputs": [],
   "source": [
    "test_pred_poly = poly_svc.predict(test_scaled)"
   ]
  },
  {
   "cell_type": "code",
   "execution_count": null,
   "id": "ca8b4039",
   "metadata": {
    "id": "ca8b4039",
    "outputId": "9aef2ed9-e566-4a57-fd99-00d16b2c55a0"
   },
   "outputs": [],
   "source": [
    "accuracy_score(y_test, test_pred_poly)"
   ]
  },
  {
   "cell_type": "code",
   "execution_count": null,
   "id": "0cf3b9fd",
   "metadata": {
    "id": "0cf3b9fd",
    "outputId": "424c037b-12bc-4df3-e409-74cc7461157a"
   },
   "outputs": [],
   "source": [
    "print(classification_report(y_test, test_pred_poly))"
   ]
  },
  {
   "cell_type": "markdown",
   "id": "47757600",
   "metadata": {
    "id": "47757600"
   },
   "source": [
    "Este é o fim do laboratório que tratou do uso de máquinas de vetores de suporte para tarefas de classificação. Como você pode ver, SVM é um algoritmo robusto, dada a forma como suporta diferentes kernels. Esses kernels são o que o tornam adequado para problemas lineares e não lineares. No mundo real, muitos conjuntos de dados não são lineares. Portanto, quando você não conseguir bons resultados com modelos lineares, tente coisas como SVM com kernel polinomial."
   ]
  },
  {
   "cell_type": "markdown",
   "id": "6536244e",
   "metadata": {
    "id": "6536244e"
   },
   "source": [
    "### [BACK TO TOP](#0)"
   ]
  },
  {
   "cell_type": "markdown",
   "id": "36a8096e",
   "metadata": {},
   "source": [
    "# Regressão com SVM\n",
    "\n",
    "Apesar de ser mais comumente utilizado para classificação, o SVM também pode ser utilizado para regressão, ou seja, para prever valores contínuos com base nos dados em vez de prever as classes às quais os dados pertencem.\n",
    "\n",
    "Nesse caso, nosso objetivo é achar o hiperplano que mais se aproxime dos dados. Novamente, o SVM considera apenas um subconjunto dos dados. Se na classificação ele considera apenas os pontos mais próximos ao hiperplano, na regressão, ele considera apenas os pontos mais distantes. Isso quer dizer que, dada uma tolerância épsilon (Ɛ), o SVM considera apenas os pontos que estão a uma distância maior que épsilon do hiperplano. O objetivo é, então, encontrar o hiperplano mais próximo desses pontos. Para casos não lineares, podemos também usar a mesma técnica de transformação do SVM não-linear para fazer uma regressão não-linear.\n",
    "\n",
    "https://medium.com/turing-talks/turing-talks-12-classifica%C3%A7%C3%A3o-por-svm-f4598094a3f1"
   ]
  },
  {
   "cell_type": "code",
   "execution_count": 3,
   "id": "2736cdbb",
   "metadata": {},
   "outputs": [
    {
     "data": {
      "text/plain": [
       "(0.3361301529185802,\n",
       " 0.3570026426754465,\n",
       " 0.7485520410535174,\n",
       " 0.7275639524733043)"
      ]
     },
     "execution_count": 3,
     "metadata": {},
     "output_type": "execute_result"
    }
   ],
   "source": [
    "# Importando as bibliotecas necessárias\n",
    "import numpy as np\n",
    "import pandas as pd\n",
    "from sklearn.model_selection import train_test_split\n",
    "from sklearn.preprocessing import StandardScaler\n",
    "from sklearn.svm import SVR\n",
    "from sklearn.metrics import mean_squared_error, r2_score\n",
    "from sklearn.datasets import fetch_california_housing\n",
    "\n",
    "# Carregando o conjunto de dados\n",
    "data = fetch_california_housing()\n",
    "X, y = data.data, data.target\n",
    "\n",
    "# Dividindo os dados em conjuntos de treinamento e teste\n",
    "X_train, X_test, y_train, y_test = train_test_split(X, y, test_size=0.2, random_state=42)\n",
    "\n",
    "# Normalizando os dados\n",
    "scaler = StandardScaler()\n",
    "X_train_scaled = scaler.fit_transform(X_train)\n",
    "X_test_scaled = scaler.transform(X_test)\n",
    "\n",
    "# Treinando o modelo SVR\n",
    "svr = SVR(kernel='rbf')\n",
    "svr.fit(X_train_scaled, y_train)\n",
    "\n",
    "# Fazendo previsões\n",
    "y_pred_train = svr.predict(X_train_scaled)\n",
    "y_pred_test = svr.predict(X_test_scaled)\n",
    "\n",
    "# Avaliando o desempenho do modelo\n",
    "mse_train = mean_squared_error(y_train, y_pred_train)\n",
    "mse_test = mean_squared_error(y_test, y_pred_test)\n",
    "r2_train = r2_score(y_train, y_pred_train)\n",
    "r2_test = r2_score(y_test, y_pred_test)\n",
    "\n",
    "# Resultados\n",
    "mse_train, mse_test, r2_train, r2_test\n"
   ]
  },
  {
   "cell_type": "code",
   "execution_count": 4,
   "id": "67e33acb",
   "metadata": {},
   "outputs": [],
   "source": [
    "# Passo 1: Importar Bibliotecas\n",
    "import numpy as np\n",
    "import matplotlib.pyplot as plt\n",
    "from sklearn.datasets import fetch_california_housing\n",
    "from sklearn.model_selection import train_test_split\n",
    "from sklearn.preprocessing import StandardScaler\n",
    "from sklearn.svm import SVR\n",
    "from sklearn.metrics import mean_squared_error, r2_score"
   ]
  },
  {
   "cell_type": "code",
   "execution_count": 5,
   "id": "60e8d4e0",
   "metadata": {},
   "outputs": [],
   "source": [
    "# Passo 2: Carregar o Conjunto de Dados\n",
    "housing = fetch_california_housing()\n",
    "X = housing.data\n",
    "y = housing.target"
   ]
  },
  {
   "cell_type": "code",
   "execution_count": 6,
   "id": "f55c0d72",
   "metadata": {},
   "outputs": [],
   "source": [
    "# Passo 3: Dividir os Dados em Treino e Teste\n",
    "X_train, X_test, y_train, y_test = train_test_split(X, y, test_size=0.2, random_state=42)"
   ]
  },
  {
   "cell_type": "code",
   "execution_count": 7,
   "id": "da5dd72b",
   "metadata": {},
   "outputs": [],
   "source": [
    "# Opcional: Normalizar os Dados\n",
    "scaler = StandardScaler()\n",
    "X_train = scaler.fit_transform(X_train)\n",
    "X_test = scaler.transform(X_test)"
   ]
  },
  {
   "cell_type": "code",
   "execution_count": 8,
   "id": "06ef4952",
   "metadata": {},
   "outputs": [],
   "source": [
    "# Reduzir para 10% dos dados originais\n",
    "n_samples = int(len(X) * 0.01)\n",
    "np.random.seed(0)  # Para reproduzibilidade\n",
    "indices = np.random.choice(len(X), n_samples, replace=False)\n",
    "X = X[indices]\n",
    "y = y[indices]"
   ]
  },
  {
   "cell_type": "code",
   "execution_count": 9,
   "id": "a94e2de6",
   "metadata": {},
   "outputs": [
    {
     "data": {
      "text/plain": [
       "206"
      ]
     },
     "execution_count": 9,
     "metadata": {},
     "output_type": "execute_result"
    }
   ],
   "source": [
    "len(X)"
   ]
  },
  {
   "cell_type": "code",
   "execution_count": 10,
   "id": "e8c80e8a",
   "metadata": {},
   "outputs": [],
   "source": [
    "# Passo 4: Instanciar o Modelo SVR\n",
    "# svr = SVR(kernel='linear', C=100, epsilon=0.1)\n",
    "svr = SVR(kernel='rbf')"
   ]
  },
  {
   "cell_type": "code",
   "execution_count": 11,
   "id": "e45df011",
   "metadata": {},
   "outputs": [
    {
     "data": {
      "text/html": [
       "<style>#sk-container-id-1 {color: black;}#sk-container-id-1 pre{padding: 0;}#sk-container-id-1 div.sk-toggleable {background-color: white;}#sk-container-id-1 label.sk-toggleable__label {cursor: pointer;display: block;width: 100%;margin-bottom: 0;padding: 0.3em;box-sizing: border-box;text-align: center;}#sk-container-id-1 label.sk-toggleable__label-arrow:before {content: \"▸\";float: left;margin-right: 0.25em;color: #696969;}#sk-container-id-1 label.sk-toggleable__label-arrow:hover:before {color: black;}#sk-container-id-1 div.sk-estimator:hover label.sk-toggleable__label-arrow:before {color: black;}#sk-container-id-1 div.sk-toggleable__content {max-height: 0;max-width: 0;overflow: hidden;text-align: left;background-color: #f0f8ff;}#sk-container-id-1 div.sk-toggleable__content pre {margin: 0.2em;color: black;border-radius: 0.25em;background-color: #f0f8ff;}#sk-container-id-1 input.sk-toggleable__control:checked~div.sk-toggleable__content {max-height: 200px;max-width: 100%;overflow: auto;}#sk-container-id-1 input.sk-toggleable__control:checked~label.sk-toggleable__label-arrow:before {content: \"▾\";}#sk-container-id-1 div.sk-estimator input.sk-toggleable__control:checked~label.sk-toggleable__label {background-color: #d4ebff;}#sk-container-id-1 div.sk-label input.sk-toggleable__control:checked~label.sk-toggleable__label {background-color: #d4ebff;}#sk-container-id-1 input.sk-hidden--visually {border: 0;clip: rect(1px 1px 1px 1px);clip: rect(1px, 1px, 1px, 1px);height: 1px;margin: -1px;overflow: hidden;padding: 0;position: absolute;width: 1px;}#sk-container-id-1 div.sk-estimator {font-family: monospace;background-color: #f0f8ff;border: 1px dotted black;border-radius: 0.25em;box-sizing: border-box;margin-bottom: 0.5em;}#sk-container-id-1 div.sk-estimator:hover {background-color: #d4ebff;}#sk-container-id-1 div.sk-parallel-item::after {content: \"\";width: 100%;border-bottom: 1px solid gray;flex-grow: 1;}#sk-container-id-1 div.sk-label:hover label.sk-toggleable__label {background-color: #d4ebff;}#sk-container-id-1 div.sk-serial::before {content: \"\";position: absolute;border-left: 1px solid gray;box-sizing: border-box;top: 0;bottom: 0;left: 50%;z-index: 0;}#sk-container-id-1 div.sk-serial {display: flex;flex-direction: column;align-items: center;background-color: white;padding-right: 0.2em;padding-left: 0.2em;position: relative;}#sk-container-id-1 div.sk-item {position: relative;z-index: 1;}#sk-container-id-1 div.sk-parallel {display: flex;align-items: stretch;justify-content: center;background-color: white;position: relative;}#sk-container-id-1 div.sk-item::before, #sk-container-id-1 div.sk-parallel-item::before {content: \"\";position: absolute;border-left: 1px solid gray;box-sizing: border-box;top: 0;bottom: 0;left: 50%;z-index: -1;}#sk-container-id-1 div.sk-parallel-item {display: flex;flex-direction: column;z-index: 1;position: relative;background-color: white;}#sk-container-id-1 div.sk-parallel-item:first-child::after {align-self: flex-end;width: 50%;}#sk-container-id-1 div.sk-parallel-item:last-child::after {align-self: flex-start;width: 50%;}#sk-container-id-1 div.sk-parallel-item:only-child::after {width: 0;}#sk-container-id-1 div.sk-dashed-wrapped {border: 1px dashed gray;margin: 0 0.4em 0.5em 0.4em;box-sizing: border-box;padding-bottom: 0.4em;background-color: white;}#sk-container-id-1 div.sk-label label {font-family: monospace;font-weight: bold;display: inline-block;line-height: 1.2em;}#sk-container-id-1 div.sk-label-container {text-align: center;}#sk-container-id-1 div.sk-container {/* jupyter's `normalize.less` sets `[hidden] { display: none; }` but bootstrap.min.css set `[hidden] { display: none !important; }` so we also need the `!important` here to be able to override the default hidden behavior on the sphinx rendered scikit-learn.org. See: https://github.com/scikit-learn/scikit-learn/issues/21755 */display: inline-block !important;position: relative;}#sk-container-id-1 div.sk-text-repr-fallback {display: none;}</style><div id=\"sk-container-id-1\" class=\"sk-top-container\"><div class=\"sk-text-repr-fallback\"><pre>SVR()</pre><b>In a Jupyter environment, please rerun this cell to show the HTML representation or trust the notebook. <br />On GitHub, the HTML representation is unable to render, please try loading this page with nbviewer.org.</b></div><div class=\"sk-container\" hidden><div class=\"sk-item\"><div class=\"sk-estimator sk-toggleable\"><input class=\"sk-toggleable__control sk-hidden--visually\" id=\"sk-estimator-id-1\" type=\"checkbox\" checked><label for=\"sk-estimator-id-1\" class=\"sk-toggleable__label sk-toggleable__label-arrow\">SVR</label><div class=\"sk-toggleable__content\"><pre>SVR()</pre></div></div></div></div></div>"
      ],
      "text/plain": [
       "SVR()"
      ]
     },
     "execution_count": 11,
     "metadata": {},
     "output_type": "execute_result"
    }
   ],
   "source": [
    "# Passo 5: Treinar o Modelo\n",
    "svr.fit(X_train, y_train)"
   ]
  },
  {
   "cell_type": "code",
   "execution_count": 12,
   "id": "c80c641f",
   "metadata": {},
   "outputs": [
    {
     "name": "stdout",
     "output_type": "stream",
     "text": [
      "Mean Squared Error (MSE): 0.36\n",
      "R^2 Score: 0.73\n"
     ]
    },
    {
     "data": {
      "image/png": "[encoded data removed]",
      "text/plain": [
       "<Figure size 1000x600 with 1 Axes>"
      ]
     },
     "metadata": {},
     "output_type": "display_data"
    }
   ],
   "source": [
    "# Passo 6: Predição e Avaliação\n",
    "y_pred = svr.predict(X_test)\n",
    "\n",
    "mse = mean_squared_error(y_test, y_pred)\n",
    "r2 = r2_score(y_test, y_pred)\n",
    "\n",
    "print(f'Mean Squared Error (MSE): {mse:.2f}')\n",
    "print(f'R^2 Score: {r2:.2f}')\n",
    "\n",
    "\n"
   ]
  },
  {
   "cell_type": "code",
   "execution_count": 13,
   "id": "86705231",
   "metadata": {},
   "outputs": [
    {
     "data": {
      "image/png": "[encoded data removed]",
      "text/plain": [
       "<Figure size 1000x600 with 1 Axes>"
      ]
     },
     "metadata": {},
     "output_type": "display_data"
    }
   ],
   "source": [
    "# Passo 7: Visualização dos Resultados\n",
    "plt.figure(figsize=(10, 6))\n",
    "plt.scatter(y_test, y_pred, color='blue')\n",
    "plt.plot([min(y_test), max(y_test)], [min(y_test), max(y_test)], color='red', linestyle='--', lw=2)\n",
    "plt.xlabel('True Values')\n",
    "plt.ylabel('Predictions')\n",
    "plt.title('True Values vs. Predicted Values (SVR)')\n",
    "plt.grid(True)\n",
    "plt.show()"
   ]
  },
  {
   "cell_type": "code",
   "execution_count": null,
   "id": "d4e8fb44",
   "metadata": {},
   "outputs": [],
   "source": []
  }
 ],
 "metadata": {
  "colab": {
   "provenance": []
  },
  "kernelspec": {
   "display_name": "Python 3 (ipykernel)",
   "language": "python",
   "name": "python3"
  },
  "language_info": {
   "codemirror_mode": {
    "name": "ipython",
    "version": 3
   },
   "file_extension": ".py",
   "mimetype": "text/x-python",
   "name": "python",
   "nbconvert_exporter": "python",
   "pygments_lexer": "ipython3",
   "version": "3.11.5"
  }
 },
 "nbformat": 4,
 "nbformat_minor": 5
}
